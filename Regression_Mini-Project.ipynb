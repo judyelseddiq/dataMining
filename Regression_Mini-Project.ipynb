{
  "cells": [
    {
      "cell_type": "markdown",
      "metadata": {
        "id": "view-in-github",
        "colab_type": "text"
      },
      "source": [
        "<a href=\"https://colab.research.google.com/github/judyelseddiq/dataMining/blob/main/Regression_Mini-Project.ipynb\" target=\"_parent\"><img src=\"https://colab.research.google.com/assets/colab-badge.svg\" alt=\"Open In Colab\"/></a>"
      ]
    },
    {
      "cell_type": "markdown",
      "id": "bbe7ff35",
      "metadata": {
        "id": "bbe7ff35"
      },
      "source": [
        "# Data Mining — Linear Regression — Mini-Project 1 (Energy Consumption)\n",
        "\n",
        "**Course:** [CSEN911] Data Mining (Winter 2025)  \n",
        "**Instructor:** Dr. Ayman Alserafi  \n",
        "**Due:** 24 October 2025, 11:59 PM\n",
        "\n",
        "**Dataset:** `energy_data.csv`  \n",
        "\n",
        "\n",
        "> **Instructions:** For every step, write your own explanations and justifications and visualization in the provided Markdown prompts.\n",
        "\n",
        "\n"
      ]
    },
    {
      "cell_type": "markdown",
      "id": "b086a153",
      "metadata": {
        "id": "b086a153"
      },
      "source": [
        "***Edit this cell with your name(s), tutorial number(s) and ID(s)***\n",
        "\n",
        "---\n",
        "\n",
        "Name:\n",
        "\n",
        "ID:\n",
        "\n",
        "Tutorial:\n",
        "\n",
        "---\n",
        "\n",
        "Name:\n",
        "\n",
        "ID:\n",
        "\n",
        "Tutorial:\n",
        "\n",
        "---\n"
      ]
    },
    {
      "cell_type": "markdown",
      "id": "da2958bb",
      "metadata": {
        "id": "da2958bb"
      },
      "source": [
        "The dataset contains building-level energy readings and contextual attributes.\n",
        "\n",
        "Each row represents a building observation. Columns include:\n",
        "\n",
        "<div style=\"font-size:20px;\">\n",
        "\n",
        "| **Column** | **Description** |\n",
        "|-------------|-----------------|\n",
        "| **Building_ID** | Unique identifier for each building record. Used to distinguish one building entry from another. |\n",
        "| **Building_Type** | Category describing the primary use of the building (e.g., Residential, Commercial, Industrial, Educational, etc.). |\n",
        "| **Governorate** | The administrative region (governorate) where the building is located (e.g., Cairo, Giza, Alexandria). |\n",
        "| **Neighborhood** | The smaller district or local area within the governorate where the building is located. |\n",
        "| **Day_of_Week** | The day on which the energy consumption measurement was recorded (e.g., Sunday, Monday, etc.). |\n",
        "| **Occupancy_Level** | The relative number of occupants or activity level in the building, typically categorized as *Low*, *Medium*, or *High*. |\n",
        "| **Appliances_Usage_Level** | Indicates how intensively appliances are used in the building *Low*, *Medium*, or *High*. |\n",
        "| **SquareFootage** | The total floor area of the building (numeric). Serves as a proxy for building size, often influencing energy usage. |\n",
        "| **Last_Maintenance_Date** | The date of the last maintainance done on the building. |\n",
        "| **Average_Temperature** | The average ambient temperature (in °C) recorded during the data period. |\n",
        "| **Energy_Consumption** | The total energy used by the building, typically measured in kilowatt-hours (kWh).|\n",
        "\n",
        "</div>\n"
      ]
    },
    {
      "cell_type": "markdown",
      "id": "54979aed",
      "metadata": {
        "id": "54979aed"
      },
      "source": [
        "## Importing Libraries & Dataset"
      ]
    },
    {
      "cell_type": "code",
      "execution_count": null,
      "id": "b5c14ccd",
      "metadata": {
        "id": "b5c14ccd",
        "outputId": "10f08caa-91ec-491b-fa85-23c018fb3d58",
        "scrolled": true
      },
      "outputs": [
        {
          "data": {
            "text/html": [
              "<div>\n",
              "<style scoped>\n",
              "    .dataframe tbody tr th:only-of-type {\n",
              "        vertical-align: middle;\n",
              "    }\n",
              "\n",
              "    .dataframe tbody tr th {\n",
              "        vertical-align: top;\n",
              "    }\n",
              "\n",
              "    .dataframe thead th {\n",
              "        text-align: right;\n",
              "    }\n",
              "</style>\n",
              "<table border=\"1\" class=\"dataframe\">\n",
              "  <thead>\n",
              "    <tr style=\"text-align: right;\">\n",
              "      <th></th>\n",
              "      <th>Building_ID</th>\n",
              "      <th>Building_Type</th>\n",
              "      <th>Governorate</th>\n",
              "      <th>Neighborhood</th>\n",
              "      <th>Day_of_Week</th>\n",
              "      <th>Occupancy_Level</th>\n",
              "      <th>Appliances_Usage_Level</th>\n",
              "      <th>SquareFootage</th>\n",
              "      <th>Last_Maintenance_Date</th>\n",
              "      <th>Average_Temperature</th>\n",
              "      <th>Energy_Consumption</th>\n",
              "    </tr>\n",
              "  </thead>\n",
              "  <tbody>\n",
              "    <tr>\n",
              "      <th>0</th>\n",
              "      <td>BLD-1000-UD</td>\n",
              "      <td>Residential</td>\n",
              "      <td>Alexandria</td>\n",
              "      <td>Smouha</td>\n",
              "      <td>WeDnesday</td>\n",
              "      <td>High</td>\n",
              "      <td>Low</td>\n",
              "      <td>7063m2</td>\n",
              "      <td>2020-01-01</td>\n",
              "      <td>28.61</td>\n",
              "      <td>2713.95 kWh</td>\n",
              "    </tr>\n",
              "    <tr>\n",
              "      <th>1</th>\n",
              "      <td>BLD-1001-AX</td>\n",
              "      <td>Commercial</td>\n",
              "      <td>Giza</td>\n",
              "      <td>+Mohandessin14</td>\n",
              "      <td>tuesDAY</td>\n",
              "      <td>High</td>\n",
              "      <td>High</td>\n",
              "      <td>44372m2</td>\n",
              "      <td>2022-02-24</td>\n",
              "      <td>NaN</td>\n",
              "      <td>5744.99 kWh</td>\n",
              "    </tr>\n",
              "    <tr>\n",
              "      <th>2</th>\n",
              "      <td>BLD-1002-IH</td>\n",
              "      <td>Industrial</td>\n",
              "      <td>Cairo</td>\n",
              "      <td>New Cairo</td>\n",
              "      <td>SunDay</td>\n",
              "      <td>Medium</td>\n",
              "      <td>Low</td>\n",
              "      <td>19255</td>\n",
              "      <td>2021-02-22</td>\n",
              "      <td>37.88</td>\n",
              "      <td>4101.24 kWh</td>\n",
              "    </tr>\n",
              "    <tr>\n",
              "      <th>3</th>\n",
              "      <td>BLD-1003-HE</td>\n",
              "      <td>NaN</td>\n",
              "      <td>NaN</td>\n",
              "      <td>+92Dokki</td>\n",
              "      <td>TuesDay</td>\n",
              "      <td>Low</td>\n",
              "      <td>High</td>\n",
              "      <td>13265</td>\n",
              "      <td>2023-07-30</td>\n",
              "      <td>35.06</td>\n",
              "      <td>3009.14 kWh</td>\n",
              "    </tr>\n",
              "    <tr>\n",
              "      <th>4</th>\n",
              "      <td>BLD-1004-XD</td>\n",
              "      <td>Commercial</td>\n",
              "      <td>Alexandria</td>\n",
              "      <td>Smouha</td>\n",
              "      <td>Monday</td>\n",
              "      <td>Low</td>\n",
              "      <td>Low</td>\n",
              "      <td>13375</td>\n",
              "      <td>2022-08-12</td>\n",
              "      <td>28.82</td>\n",
              "      <td>3279.17 kWh</td>\n",
              "    </tr>\n",
              "  </tbody>\n",
              "</table>\n",
              "</div>"
            ],
            "text/plain": [
              "   Building_ID Building_Type Governorate    Neighborhood Day_of_Week  \\\n",
              "0  BLD-1000-UD   Residential  Alexandria          Smouha   WeDnesday   \n",
              "1  BLD-1001-AX    Commercial        Giza  +Mohandessin14     tuesDAY   \n",
              "2  BLD-1002-IH    Industrial       Cairo       New Cairo      SunDay   \n",
              "3  BLD-1003-HE           NaN         NaN        +92Dokki     TuesDay   \n",
              "4  BLD-1004-XD    Commercial  Alexandria          Smouha      Monday   \n",
              "\n",
              "  Occupancy_Level Appliances_Usage_Level SquareFootage Last_Maintenance_Date  \\\n",
              "0            High                    Low        7063m2            2020-01-01   \n",
              "1            High                   High       44372m2            2022-02-24   \n",
              "2          Medium                    Low         19255            2021-02-22   \n",
              "3             Low                   High         13265            2023-07-30   \n",
              "4             Low                    Low         13375            2022-08-12   \n",
              "\n",
              "   Average_Temperature Energy_Consumption  \n",
              "0                28.61        2713.95 kWh  \n",
              "1                  NaN        5744.99 kWh  \n",
              "2                37.88        4101.24 kWh  \n",
              "3                35.06        3009.14 kWh  \n",
              "4                28.82        3279.17 kWh  "
            ]
          },
          "execution_count": 5,
          "metadata": {},
          "output_type": "execute_result"
        }
      ],
      "source": [
        "import pandas as pd\n",
        "import numpy as np\n",
        "import matplotlib.pyplot as plt\n",
        "import seaborn as sns\n",
        "\n",
        "try:\n",
        "    df = pd.read_csv('energy_data.csv')\n",
        "except:\n",
        "    df = pd.read_csv('https://raw.githubusercontent.com/GUC-DM/W2025/refs/heads/main/data/energy_data.csv')\n",
        "\n",
        "df.head()"
      ]
    },
    {
      "cell_type": "markdown",
      "id": "139e67c5",
      "metadata": {
        "id": "139e67c5"
      },
      "source": [
        "## Data Inspection\n",
        "\n",
        "Perform data inspection tasks here (recommended for data understanding)."
      ]
    },
    {
      "cell_type": "code",
      "execution_count": null,
      "id": "2ca36fe4",
      "metadata": {
        "id": "2ca36fe4"
      },
      "outputs": [],
      "source": []
    },
    {
      "cell_type": "markdown",
      "id": "6833ef67",
      "metadata": {
        "id": "6833ef67"
      },
      "source": [
        "## Data Pre-Processing & Cleaning\n",
        "\n",
        "_Apply any data preprocessing and/or feature engineering below. Show/output the changes to the dataset._"
      ]
    },
    {
      "cell_type": "code",
      "execution_count": 8,
      "id": "88d7f45a",
      "metadata": {
        "id": "88d7f45a",
        "colab": {
          "base_uri": "https://localhost:8080/",
          "height": 419
        },
        "outputId": "7dbb9979-c2d2-44e7-f7d5-b958f2dd78ce"
      },
      "outputs": [
        {
          "output_type": "display_data",
          "data": {
            "text/plain": [
              "     Day_of_Week\n",
              "0      Wednesday\n",
              "1        Tuesday\n",
              "2         Sunday\n",
              "3        Tuesday\n",
              "4         Monday\n",
              "...          ...\n",
              "1095    Saturday\n",
              "1096      Sunday\n",
              "1097      Sunday\n",
              "1098    Saturday\n",
              "1099      Friday\n",
              "\n",
              "[1100 rows x 1 columns]"
            ],
            "text/html": [
              "\n",
              "  <div id=\"df-4fe036bf-d0a4-4d29-a674-6ff0ca169eba\" class=\"colab-df-container\">\n",
              "    <div>\n",
              "<style scoped>\n",
              "    .dataframe tbody tr th:only-of-type {\n",
              "        vertical-align: middle;\n",
              "    }\n",
              "\n",
              "    .dataframe tbody tr th {\n",
              "        vertical-align: top;\n",
              "    }\n",
              "\n",
              "    .dataframe thead th {\n",
              "        text-align: right;\n",
              "    }\n",
              "</style>\n",
              "<table border=\"1\" class=\"dataframe\">\n",
              "  <thead>\n",
              "    <tr style=\"text-align: right;\">\n",
              "      <th></th>\n",
              "      <th>Day_of_Week</th>\n",
              "    </tr>\n",
              "  </thead>\n",
              "  <tbody>\n",
              "    <tr>\n",
              "      <th>0</th>\n",
              "      <td>Wednesday</td>\n",
              "    </tr>\n",
              "    <tr>\n",
              "      <th>1</th>\n",
              "      <td>Tuesday</td>\n",
              "    </tr>\n",
              "    <tr>\n",
              "      <th>2</th>\n",
              "      <td>Sunday</td>\n",
              "    </tr>\n",
              "    <tr>\n",
              "      <th>3</th>\n",
              "      <td>Tuesday</td>\n",
              "    </tr>\n",
              "    <tr>\n",
              "      <th>4</th>\n",
              "      <td>Monday</td>\n",
              "    </tr>\n",
              "    <tr>\n",
              "      <th>...</th>\n",
              "      <td>...</td>\n",
              "    </tr>\n",
              "    <tr>\n",
              "      <th>1095</th>\n",
              "      <td>Saturday</td>\n",
              "    </tr>\n",
              "    <tr>\n",
              "      <th>1096</th>\n",
              "      <td>Sunday</td>\n",
              "    </tr>\n",
              "    <tr>\n",
              "      <th>1097</th>\n",
              "      <td>Sunday</td>\n",
              "    </tr>\n",
              "    <tr>\n",
              "      <th>1098</th>\n",
              "      <td>Saturday</td>\n",
              "    </tr>\n",
              "    <tr>\n",
              "      <th>1099</th>\n",
              "      <td>Friday</td>\n",
              "    </tr>\n",
              "  </tbody>\n",
              "</table>\n",
              "<p>1100 rows × 1 columns</p>\n",
              "</div>\n",
              "    <div class=\"colab-df-buttons\">\n",
              "\n",
              "  <div class=\"colab-df-container\">\n",
              "    <button class=\"colab-df-convert\" onclick=\"convertToInteractive('df-4fe036bf-d0a4-4d29-a674-6ff0ca169eba')\"\n",
              "            title=\"Convert this dataframe to an interactive table.\"\n",
              "            style=\"display:none;\">\n",
              "\n",
              "  <svg xmlns=\"http://www.w3.org/2000/svg\" height=\"24px\" viewBox=\"0 -960 960 960\">\n",
              "    <path d=\"M120-120v-720h720v720H120Zm60-500h600v-160H180v160Zm220 220h160v-160H400v160Zm0 220h160v-160H400v160ZM180-400h160v-160H180v160Zm440 0h160v-160H620v160ZM180-180h160v-160H180v160Zm440 0h160v-160H620v160Z\"/>\n",
              "  </svg>\n",
              "    </button>\n",
              "\n",
              "  <style>\n",
              "    .colab-df-container {\n",
              "      display:flex;\n",
              "      gap: 12px;\n",
              "    }\n",
              "\n",
              "    .colab-df-convert {\n",
              "      background-color: #E8F0FE;\n",
              "      border: none;\n",
              "      border-radius: 50%;\n",
              "      cursor: pointer;\n",
              "      display: none;\n",
              "      fill: #1967D2;\n",
              "      height: 32px;\n",
              "      padding: 0 0 0 0;\n",
              "      width: 32px;\n",
              "    }\n",
              "\n",
              "    .colab-df-convert:hover {\n",
              "      background-color: #E2EBFA;\n",
              "      box-shadow: 0px 1px 2px rgba(60, 64, 67, 0.3), 0px 1px 3px 1px rgba(60, 64, 67, 0.15);\n",
              "      fill: #174EA6;\n",
              "    }\n",
              "\n",
              "    .colab-df-buttons div {\n",
              "      margin-bottom: 4px;\n",
              "    }\n",
              "\n",
              "    [theme=dark] .colab-df-convert {\n",
              "      background-color: #3B4455;\n",
              "      fill: #D2E3FC;\n",
              "    }\n",
              "\n",
              "    [theme=dark] .colab-df-convert:hover {\n",
              "      background-color: #434B5C;\n",
              "      box-shadow: 0px 1px 3px 1px rgba(0, 0, 0, 0.15);\n",
              "      filter: drop-shadow(0px 1px 2px rgba(0, 0, 0, 0.3));\n",
              "      fill: #FFFFFF;\n",
              "    }\n",
              "  </style>\n",
              "\n",
              "    <script>\n",
              "      const buttonEl =\n",
              "        document.querySelector('#df-4fe036bf-d0a4-4d29-a674-6ff0ca169eba button.colab-df-convert');\n",
              "      buttonEl.style.display =\n",
              "        google.colab.kernel.accessAllowed ? 'block' : 'none';\n",
              "\n",
              "      async function convertToInteractive(key) {\n",
              "        const element = document.querySelector('#df-4fe036bf-d0a4-4d29-a674-6ff0ca169eba');\n",
              "        const dataTable =\n",
              "          await google.colab.kernel.invokeFunction('convertToInteractive',\n",
              "                                                    [key], {});\n",
              "        if (!dataTable) return;\n",
              "\n",
              "        const docLinkHtml = 'Like what you see? Visit the ' +\n",
              "          '<a target=\"_blank\" href=https://colab.research.google.com/notebooks/data_table.ipynb>data table notebook</a>'\n",
              "          + ' to learn more about interactive tables.';\n",
              "        element.innerHTML = '';\n",
              "        dataTable['output_type'] = 'display_data';\n",
              "        await google.colab.output.renderOutput(dataTable, element);\n",
              "        const docLink = document.createElement('div');\n",
              "        docLink.innerHTML = docLinkHtml;\n",
              "        element.appendChild(docLink);\n",
              "      }\n",
              "    </script>\n",
              "  </div>\n",
              "\n",
              "\n",
              "    <div id=\"df-eb66abac-48a0-457b-85ea-0b37a7583c71\">\n",
              "      <button class=\"colab-df-quickchart\" onclick=\"quickchart('df-eb66abac-48a0-457b-85ea-0b37a7583c71')\"\n",
              "                title=\"Suggest charts\"\n",
              "                style=\"display:none;\">\n",
              "\n",
              "<svg xmlns=\"http://www.w3.org/2000/svg\" height=\"24px\"viewBox=\"0 0 24 24\"\n",
              "     width=\"24px\">\n",
              "    <g>\n",
              "        <path d=\"M19 3H5c-1.1 0-2 .9-2 2v14c0 1.1.9 2 2 2h14c1.1 0 2-.9 2-2V5c0-1.1-.9-2-2-2zM9 17H7v-7h2v7zm4 0h-2V7h2v10zm4 0h-2v-4h2v4z\"/>\n",
              "    </g>\n",
              "</svg>\n",
              "      </button>\n",
              "\n",
              "<style>\n",
              "  .colab-df-quickchart {\n",
              "      --bg-color: #E8F0FE;\n",
              "      --fill-color: #1967D2;\n",
              "      --hover-bg-color: #E2EBFA;\n",
              "      --hover-fill-color: #174EA6;\n",
              "      --disabled-fill-color: #AAA;\n",
              "      --disabled-bg-color: #DDD;\n",
              "  }\n",
              "\n",
              "  [theme=dark] .colab-df-quickchart {\n",
              "      --bg-color: #3B4455;\n",
              "      --fill-color: #D2E3FC;\n",
              "      --hover-bg-color: #434B5C;\n",
              "      --hover-fill-color: #FFFFFF;\n",
              "      --disabled-bg-color: #3B4455;\n",
              "      --disabled-fill-color: #666;\n",
              "  }\n",
              "\n",
              "  .colab-df-quickchart {\n",
              "    background-color: var(--bg-color);\n",
              "    border: none;\n",
              "    border-radius: 50%;\n",
              "    cursor: pointer;\n",
              "    display: none;\n",
              "    fill: var(--fill-color);\n",
              "    height: 32px;\n",
              "    padding: 0;\n",
              "    width: 32px;\n",
              "  }\n",
              "\n",
              "  .colab-df-quickchart:hover {\n",
              "    background-color: var(--hover-bg-color);\n",
              "    box-shadow: 0 1px 2px rgba(60, 64, 67, 0.3), 0 1px 3px 1px rgba(60, 64, 67, 0.15);\n",
              "    fill: var(--button-hover-fill-color);\n",
              "  }\n",
              "\n",
              "  .colab-df-quickchart-complete:disabled,\n",
              "  .colab-df-quickchart-complete:disabled:hover {\n",
              "    background-color: var(--disabled-bg-color);\n",
              "    fill: var(--disabled-fill-color);\n",
              "    box-shadow: none;\n",
              "  }\n",
              "\n",
              "  .colab-df-spinner {\n",
              "    border: 2px solid var(--fill-color);\n",
              "    border-color: transparent;\n",
              "    border-bottom-color: var(--fill-color);\n",
              "    animation:\n",
              "      spin 1s steps(1) infinite;\n",
              "  }\n",
              "\n",
              "  @keyframes spin {\n",
              "    0% {\n",
              "      border-color: transparent;\n",
              "      border-bottom-color: var(--fill-color);\n",
              "      border-left-color: var(--fill-color);\n",
              "    }\n",
              "    20% {\n",
              "      border-color: transparent;\n",
              "      border-left-color: var(--fill-color);\n",
              "      border-top-color: var(--fill-color);\n",
              "    }\n",
              "    30% {\n",
              "      border-color: transparent;\n",
              "      border-left-color: var(--fill-color);\n",
              "      border-top-color: var(--fill-color);\n",
              "      border-right-color: var(--fill-color);\n",
              "    }\n",
              "    40% {\n",
              "      border-color: transparent;\n",
              "      border-right-color: var(--fill-color);\n",
              "      border-top-color: var(--fill-color);\n",
              "    }\n",
              "    60% {\n",
              "      border-color: transparent;\n",
              "      border-right-color: var(--fill-color);\n",
              "    }\n",
              "    80% {\n",
              "      border-color: transparent;\n",
              "      border-right-color: var(--fill-color);\n",
              "      border-bottom-color: var(--fill-color);\n",
              "    }\n",
              "    90% {\n",
              "      border-color: transparent;\n",
              "      border-bottom-color: var(--fill-color);\n",
              "    }\n",
              "  }\n",
              "</style>\n",
              "\n",
              "      <script>\n",
              "        async function quickchart(key) {\n",
              "          const quickchartButtonEl =\n",
              "            document.querySelector('#' + key + ' button');\n",
              "          quickchartButtonEl.disabled = true;  // To prevent multiple clicks.\n",
              "          quickchartButtonEl.classList.add('colab-df-spinner');\n",
              "          try {\n",
              "            const charts = await google.colab.kernel.invokeFunction(\n",
              "                'suggestCharts', [key], {});\n",
              "          } catch (error) {\n",
              "            console.error('Error during call to suggestCharts:', error);\n",
              "          }\n",
              "          quickchartButtonEl.classList.remove('colab-df-spinner');\n",
              "          quickchartButtonEl.classList.add('colab-df-quickchart-complete');\n",
              "        }\n",
              "        (() => {\n",
              "          let quickchartButtonEl =\n",
              "            document.querySelector('#df-eb66abac-48a0-457b-85ea-0b37a7583c71 button');\n",
              "          quickchartButtonEl.style.display =\n",
              "            google.colab.kernel.accessAllowed ? 'block' : 'none';\n",
              "        })();\n",
              "      </script>\n",
              "    </div>\n",
              "\n",
              "  <div id=\"id_d721be36-a0f0-4b46-aff2-e9ba89255cf7\">\n",
              "    <style>\n",
              "      .colab-df-generate {\n",
              "        background-color: #E8F0FE;\n",
              "        border: none;\n",
              "        border-radius: 50%;\n",
              "        cursor: pointer;\n",
              "        display: none;\n",
              "        fill: #1967D2;\n",
              "        height: 32px;\n",
              "        padding: 0 0 0 0;\n",
              "        width: 32px;\n",
              "      }\n",
              "\n",
              "      .colab-df-generate:hover {\n",
              "        background-color: #E2EBFA;\n",
              "        box-shadow: 0px 1px 2px rgba(60, 64, 67, 0.3), 0px 1px 3px 1px rgba(60, 64, 67, 0.15);\n",
              "        fill: #174EA6;\n",
              "      }\n",
              "\n",
              "      [theme=dark] .colab-df-generate {\n",
              "        background-color: #3B4455;\n",
              "        fill: #D2E3FC;\n",
              "      }\n",
              "\n",
              "      [theme=dark] .colab-df-generate:hover {\n",
              "        background-color: #434B5C;\n",
              "        box-shadow: 0px 1px 3px 1px rgba(0, 0, 0, 0.15);\n",
              "        filter: drop-shadow(0px 1px 2px rgba(0, 0, 0, 0.3));\n",
              "        fill: #FFFFFF;\n",
              "      }\n",
              "    </style>\n",
              "    <button class=\"colab-df-generate\" onclick=\"generateWithVariable('temp')\"\n",
              "            title=\"Generate code using this dataframe.\"\n",
              "            style=\"display:none;\">\n",
              "\n",
              "  <svg xmlns=\"http://www.w3.org/2000/svg\" height=\"24px\"viewBox=\"0 0 24 24\"\n",
              "       width=\"24px\">\n",
              "    <path d=\"M7,19H8.4L18.45,9,17,7.55,7,17.6ZM5,21V16.75L18.45,3.32a2,2,0,0,1,2.83,0l1.4,1.43a1.91,1.91,0,0,1,.58,1.4,1.91,1.91,0,0,1-.58,1.4L9.25,21ZM18.45,9,17,7.55Zm-12,3A5.31,5.31,0,0,0,4.9,8.1,5.31,5.31,0,0,0,1,6.5,5.31,5.31,0,0,0,4.9,4.9,5.31,5.31,0,0,0,6.5,1,5.31,5.31,0,0,0,8.1,4.9,5.31,5.31,0,0,0,12,6.5,5.46,5.46,0,0,0,6.5,12Z\"/>\n",
              "  </svg>\n",
              "    </button>\n",
              "    <script>\n",
              "      (() => {\n",
              "      const buttonEl =\n",
              "        document.querySelector('#id_d721be36-a0f0-4b46-aff2-e9ba89255cf7 button.colab-df-generate');\n",
              "      buttonEl.style.display =\n",
              "        google.colab.kernel.accessAllowed ? 'block' : 'none';\n",
              "\n",
              "      buttonEl.onclick = () => {\n",
              "        google.colab.notebook.generateWithVariable('temp');\n",
              "      }\n",
              "      })();\n",
              "    </script>\n",
              "  </div>\n",
              "\n",
              "    </div>\n",
              "  </div>\n"
            ],
            "application/vnd.google.colaboratory.intrinsic+json": {
              "type": "dataframe",
              "variable_name": "temp",
              "summary": "{\n  \"name\": \"temp\",\n  \"rows\": 1100,\n  \"fields\": [\n    {\n      \"column\": \"Day_of_Week\",\n      \"properties\": {\n        \"dtype\": \"category\",\n        \"num_unique_values\": 7,\n        \"samples\": [\n          \"Wednesday\",\n          \"Tuesday\",\n          \"Friday\"\n        ],\n        \"semantic_type\": \"\",\n        \"description\": \"\"\n      }\n    }\n  ]\n}"
            }
          },
          "metadata": {}
        }
      ],
      "source": [
        "import pandas as pd\n",
        "import numpy as np\n",
        "import matplotlib.pyplot as plt\n",
        "import seaborn as sns\n",
        "\n",
        "try:\n",
        "    df = pd.read_csv('energy_data.csv')\n",
        "except:\n",
        "    df = pd.read_csv('https://raw.githubusercontent.com/GUC-DM/W2025/refs/heads/main/data/energy_data.csv')\n",
        "\n",
        "temp = df[['Day_of_Week']].copy()\n",
        "temp.columns = ['Day_of_Week']\n",
        "temp['Day_of_Week'] = temp['Day_of_Week'].str.capitalize()\n",
        "display(temp)\n"
      ]
    },
    {
      "cell_type": "code",
      "metadata": {
        "id": "e995ade8"
      },
      "source": [
        "import pandas as pd\n",
        "import numpy as np\n",
        "import matplotlib.pyplot as plt\n",
        "import seaborn as sns\n",
        "\n",
        "try:\n",
        "    df = pd.read_csv('energy_data.csv')\n",
        "except:\n",
        "    df = pd.read_csv('https://raw.githubusercontent.com/GUC-DM/W2025/refs/heads/main/data/energy_data.csv')"
      ],
      "id": "e995ade8",
      "execution_count": null,
      "outputs": []
    },
    {
      "cell_type": "markdown",
      "id": "88bdafa3",
      "metadata": {
        "id": "88bdafa3"
      },
      "source": [
        "## Exploratory Data Analysis"
      ]
    },
    {
      "cell_type": "markdown",
      "id": "d41ea6c3",
      "metadata": {
        "id": "d41ea6c3"
      },
      "source": [
        "**Q1:** What are the most popular neighborhoods? plot all and order them on the graph (mention top 3)\n",
        "\n",
        "**Visualization**"
      ]
    },
    {
      "cell_type": "code",
      "execution_count": null,
      "id": "19156b96",
      "metadata": {
        "id": "19156b96"
      },
      "outputs": [],
      "source": []
    },
    {
      "cell_type": "markdown",
      "id": "2e0c8f51",
      "metadata": {
        "id": "2e0c8f51"
      },
      "source": [
        "**Answer for Q1:** _Your answer here_"
      ]
    },
    {
      "cell_type": "markdown",
      "id": "ee97be92",
      "metadata": {
        "id": "ee97be92"
      },
      "source": [
        "**Q2:** Show the distribution of the energy consumption of each Building type.\n",
        "\n",
        "Which type have the widest distribution of energy consumption?\n",
        "\n",
        "Which (on average) has the highest consumption?.\n",
        "\n",
        "**Visualization**"
      ]
    },
    {
      "cell_type": "code",
      "execution_count": null,
      "id": "ec865cd8",
      "metadata": {
        "id": "ec865cd8"
      },
      "outputs": [],
      "source": []
    },
    {
      "cell_type": "markdown",
      "id": "e783cbbf",
      "metadata": {
        "id": "e783cbbf"
      },
      "source": [
        "**Answer for Q2:** _Your answer here_"
      ]
    },
    {
      "cell_type": "markdown",
      "id": "ad9f42b8",
      "metadata": {
        "id": "ad9f42b8"
      },
      "source": [
        "**Q3:** How does the building size affect energy consumption?\n",
        "\n",
        "**Visualization**"
      ]
    },
    {
      "cell_type": "code",
      "execution_count": null,
      "id": "f90a6d0e",
      "metadata": {
        "id": "f90a6d0e"
      },
      "outputs": [],
      "source": []
    },
    {
      "cell_type": "markdown",
      "id": "07eaceac",
      "metadata": {
        "id": "07eaceac"
      },
      "source": [
        "**Answer for Q3:** _Your answer here_"
      ]
    },
    {
      "cell_type": "markdown",
      "id": "2b766c6d",
      "metadata": {
        "id": "2b766c6d"
      },
      "source": [
        "**Q4:** Do buildings consume more energy if not maintained frequently?\n",
        "\n",
        "**Visualization**"
      ]
    },
    {
      "cell_type": "code",
      "execution_count": null,
      "id": "23f83afd",
      "metadata": {
        "id": "23f83afd"
      },
      "outputs": [],
      "source": []
    },
    {
      "cell_type": "markdown",
      "id": "62146aa6",
      "metadata": {
        "id": "62146aa6"
      },
      "source": [
        "**Answer for Q4:** _Your answer here_"
      ]
    },
    {
      "cell_type": "markdown",
      "id": "38ba2b33",
      "metadata": {
        "id": "38ba2b33"
      },
      "source": [
        "**Q5:** Are all the numerical variables normally distributed, or is there any skewness?\n",
        "\n",
        "**Visualization**"
      ]
    },
    {
      "cell_type": "code",
      "execution_count": null,
      "id": "16de46d9",
      "metadata": {
        "id": "16de46d9"
      },
      "outputs": [],
      "source": []
    },
    {
      "cell_type": "markdown",
      "id": "0e6e4dd4",
      "metadata": {
        "id": "0e6e4dd4"
      },
      "source": [
        "**Answer for Q5:** _Your answer here_"
      ]
    },
    {
      "cell_type": "markdown",
      "id": "1f6cf928",
      "metadata": {
        "id": "1f6cf928"
      },
      "source": [
        "**Q6:** What is multicollinearity? And why is it a problem for linear regression? Does this problem exist in this\n",
        "dataset?\n",
        "\n",
        "**Visualization**"
      ]
    },
    {
      "cell_type": "code",
      "execution_count": null,
      "id": "c099e907",
      "metadata": {
        "id": "c099e907"
      },
      "outputs": [],
      "source": []
    },
    {
      "cell_type": "markdown",
      "id": "f6f89b0e",
      "metadata": {
        "id": "f6f89b0e"
      },
      "source": [
        "**Answer for Q6:** _Your answer here_"
      ]
    },
    {
      "cell_type": "markdown",
      "id": "aecd76ce",
      "metadata": {
        "id": "aecd76ce"
      },
      "source": [
        "## Data Preparation for Modelling\n",
        "\n",
        "_Apply any additional data preparation steps needed before modelling below. Show/output the changes to the dataset._"
      ]
    },
    {
      "cell_type": "code",
      "execution_count": null,
      "id": "8e373980",
      "metadata": {
        "id": "8e373980"
      },
      "outputs": [],
      "source": []
    },
    {
      "cell_type": "markdown",
      "id": "ef043cf5",
      "metadata": {
        "id": "ef043cf5"
      },
      "source": [
        "## Modelling\n",
        "\n",
        "_Apply the linear regression model below._"
      ]
    },
    {
      "cell_type": "code",
      "execution_count": null,
      "id": "f1661863",
      "metadata": {
        "id": "f1661863"
      },
      "outputs": [],
      "source": []
    },
    {
      "cell_type": "markdown",
      "id": "5ab2de19",
      "metadata": {
        "id": "5ab2de19"
      },
      "source": [
        "## Model Evaluation\n",
        "\n",
        "Evaluate the model you applied."
      ]
    },
    {
      "cell_type": "code",
      "execution_count": null,
      "id": "7612d8c7",
      "metadata": {
        "id": "7612d8c7"
      },
      "outputs": [],
      "source": []
    },
    {
      "cell_type": "markdown",
      "id": "19ba6f5f",
      "metadata": {
        "id": "19ba6f5f"
      },
      "source": [
        "## Conclusion and Recommendations\n",
        "\n",
        "Comment on the model performance and your findings from model evaluation. State the problems (if any) and suggest possible solutions. Would you recommend this model for an electrcity company aiming to estimate the energy levels of each building?\n",
        "\n",
        "**Answer**: your answer here."
      ]
    },
    {
      "cell_type": "code",
      "execution_count": null,
      "id": "3ad31ed1-1535-40c3-b192-1468219fd9c0",
      "metadata": {
        "id": "3ad31ed1-1535-40c3-b192-1468219fd9c0"
      },
      "outputs": [],
      "source": []
    }
  ],
  "metadata": {
    "colab": {
      "provenance": [],
      "include_colab_link": true
    },
    "kernelspec": {
      "display_name": "Python 3 (ipykernel)",
      "language": "python",
      "name": "python3"
    },
    "language_info": {
      "codemirror_mode": {
        "name": "ipython",
        "version": 3
      },
      "file_extension": ".py",
      "mimetype": "text/x-python",
      "name": "python",
      "nbconvert_exporter": "python",
      "pygments_lexer": "ipython3",
      "version": "3.13.5"
    }
  },
  "nbformat": 4,
  "nbformat_minor": 5
}